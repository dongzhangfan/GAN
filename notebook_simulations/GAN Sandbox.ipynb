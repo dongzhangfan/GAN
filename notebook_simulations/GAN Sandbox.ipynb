{
 "cells": [
  {
   "cell_type": "code",
   "execution_count": 72,
   "metadata": {
    "collapsed": true
   },
   "outputs": [],
   "source": [
    "import itertools\n",
    "from random import shuffle\n",
    "import numpy as np\n",
    "import tensorflow as tf\n",
    "import matplotlib\n",
    "import matplotlib.pyplot as plt\n",
    "import matplotlib.mlab as mlab\n",
    "import pylab as pl\n",
    "from IPython import display\n",
    "%matplotlib inline"
   ]
  },
  {
   "cell_type": "markdown",
   "metadata": {},
   "source": [
    "## GAN Simulations"
   ]
  },
  {
   "cell_type": "markdown",
   "metadata": {},
   "source": [
    "This notebook is a sandbox for running small-scale simulations and demonstrations for [Generative Adversarial Networks (GANs)](https://arxiv.org/abs/1406.2661).  "
   ]
  },
  {
   "cell_type": "markdown",
   "metadata": {},
   "source": [
    "### 0.  Base Model"
   ]
  },
  {
   "cell_type": "markdown",
   "metadata": {},
   "source": [
    "Let's first define some basic neural networks in Tensorflow..."
   ]
  },
  {
   "cell_type": "code",
   "execution_count": 2,
   "metadata": {
    "collapsed": true
   },
   "outputs": [],
   "source": [
    "def init_neural_net(layer_sizes, std=.1):\n",
    "    params = {'w':[], 'b':[]}\n",
    "    for n_in, n_out in zip(layer_sizes[:-1], layer_sizes[1:]):\n",
    "        params['w'].append(tf.Variable(tf.random_normal([n_in, n_out], stddev=std)))\n",
    "        params['b'].append(tf.Variable(tf.zeros([n_out,])))\n",
    "    return params\n",
    "\n",
    "def neural_net(X, params):\n",
    "    h = [X]\n",
    "    for w,b in zip(params['w'][:-1], params['b'][:-1]):\n",
    "        h.append( tf.nn.relu( tf.matmul(h[-1], w) + b ) )\n",
    "    return tf.matmul(h[-1], params['w'][-1]) + params['b'][-1]"
   ]
  },
  {
   "cell_type": "markdown",
   "metadata": {},
   "source": [
    "### 1.  Gaussian Mixture Simulation\n",
    "This demo uses data generated from a Gaussian mixture model.  First, let's make a function to simulate the data..."
   ]
  },
  {
   "cell_type": "code",
   "execution_count": 3,
   "metadata": {
    "collapsed": false
   },
   "outputs": [],
   "source": [
    "# Draw sample from mixture model\n",
    "# k ~ Mult(pi)\n",
    "# z ~ f_k\n",
    "def draw_samples(pi_arr, mu_arr, cov_arr, n_samples=100):\n",
    "    comp_arr = np.random.multinomial(n_samples, pi_arr)\n",
    "    z = []\n",
    "    for idx, count in enumerate(comp_arr):\n",
    "        for c in xrange(count):\n",
    "            z.append(np.random.multivariate_normal(mu_s[idx], cov_s[idx]))\n",
    "    return np.array(z)"
   ]
  },
  {
   "cell_type": "markdown",
   "metadata": {},
   "source": [
    "Create the data and symbolic variables..."
   ]
  },
  {
   "cell_type": "code",
   "execution_count": 4,
   "metadata": {
    "collapsed": false
   },
   "outputs": [],
   "source": [
    "N = 300 # number of datapoints \n",
    "latent_size = 50\n",
    "vis_size = 2\n",
    "hidden_size = 500\n",
    "learning_rate = .05\n",
    "\n",
    "### Generate True Distribution\n",
    "pi = np.array([.35, .65])\n",
    "# define base dists.\n",
    "mu_s = [np.array([-5., -5.]), np.array([5., 5.])]\n",
    "cov_s = [np.array([[1., 0.], [0., 1.]]), np.array([[1., 0.], [0., 1.]])]\n",
    "# draw_samples\n",
    "X_true = draw_samples(pi, mu_s, cov_s, N)\n",
    "\n",
    "### Make symbolic variables\n",
    "Z = tf.placeholder(\"float\", [None, latent_size]) # latent features sampled from prior\n",
    "X = tf.placeholder(\"float\", [None, vis_size]) # samples to discriminate\n",
    "Y = tf.placeholder(\"float\", [None, 1]) # labels"
   ]
  },
  {
   "cell_type": "markdown",
   "metadata": {},
   "source": [
    "Define the discriminator model..."
   ]
  },
  {
   "cell_type": "code",
   "execution_count": 5,
   "metadata": {
    "collapsed": false
   },
   "outputs": [],
   "source": [
    "discrim_params = init_neural_net([vis_size, hidden_size, 1]) \n",
    "discrim_out = neural_net(X, discrim_params)\n",
    "\n",
    "discrim_cost = tf.reduce_mean(tf.nn.sigmoid_cross_entropy_with_logits(discrim_out, Y))\n",
    "train_discriminator = tf.train.GradientDescentOptimizer(learning_rate).minimize(discrim_cost, var_list=discrim_params['w']+discrim_params['b'])"
   ]
  },
  {
   "cell_type": "markdown",
   "metadata": {},
   "source": [
    "Define the generator model..."
   ]
  },
  {
   "cell_type": "code",
   "execution_count": 6,
   "metadata": {
    "collapsed": false
   },
   "outputs": [],
   "source": [
    "generator_params = init_neural_net([latent_size, hidden_size, vis_size])\n",
    "generator_out = neural_net(Z, generator_params)\n",
    "discrim_out_genUpdate = neural_net(generator_out, discrim_params)\n",
    "\n",
    "generator_cost = tf.reduce_mean(-tf.nn.sigmoid_cross_entropy_with_logits(discrim_out_genUpdate, Y))\n",
    "train_generator = tf.train.GradientDescentOptimizer(learning_rate).minimize(generator_cost, var_list=generator_params['w']+generator_params['b'])"
   ]
  },
  {
   "cell_type": "markdown",
   "metadata": {},
   "source": [
    "Let's train..."
   ]
  },
  {
   "cell_type": "code",
   "execution_count": 7,
   "metadata": {
    "collapsed": false
   },
   "outputs": [
    {
     "data": {
      "image/png": "[encoded data removed]",
      "text/plain": [
       "<matplotlib.figure.Figure at 0x1221c0c50>"
      ]
     },
     "metadata": {},
     "output_type": "display_data"
    }
   ],
   "source": [
    "def shuffle_in_unison_inplace(a, b):\n",
    "    assert a.shape[0] == b.shape[0]\n",
    "    p = np.random.permutation(a.shape[0])\n",
    "    return a[p], b[p]\n",
    "\n",
    "def plot_densities(true_data, samples):\n",
    "    # clear the plot\n",
    "    display.clear_output(wait=True)\n",
    "\n",
    "    plt.scatter(true_data[:,0], true_data[:,1], s=100, color='k', marker='x', label=\"data\")\n",
    "    plt.scatter(samples[:,0], samples[:,1], s=100, color='r', marker='o', label=\"samples\")\n",
    "    plt.legend(loc=2)\n",
    "    plt.xlim([-15,15])\n",
    "    plt.ylim([-15,15])\n",
    "    plt.show()\n",
    "\n",
    "# Make labels for training\n",
    "Y_true = np.ones((N, 1))\n",
    "Y_gen = np.zeros((N,1))\n",
    "Y_concat = np.vstack([Y_true, Y_gen])\n",
    "\n",
    "# Set training params\n",
    "n_epochs = 150\n",
    "n_discrim_updates = 10\n",
    "n_generator_updates = 3\n",
    "\n",
    "generator_weights = None\n",
    "generator_biases = None\n",
    "with tf.Session() as session:\n",
    "    tf.initialize_all_variables().run()\n",
    "    for epoch_idx in xrange(n_epochs):\n",
    "        \n",
    "        # train discriminator\n",
    "        discrim_error = 0.\n",
    "        for idx in xrange(n_discrim_updates):\n",
    "            # sample from generator\n",
    "            prior_samples = np.random.normal(size=(N, latent_size))\n",
    "            genSamples = session.run(generator_out, feed_dict={Z: prior_samples})\n",
    "        \n",
    "            # make dataset and shuffle\n",
    "            train_X = np.vstack([X_true, genSamples])\n",
    "            train_X, train_Y = shuffle_in_unison_inplace(train_X, Y_concat)\n",
    "        \n",
    "            # perform update\n",
    "            _, l = session.run([train_discriminator, discrim_cost], feed_dict={X: train_X, Y: train_Y})\n",
    "            discrim_error += l\n",
    "        # print \"Epoch %d.  Discriminator error: %.3f\" %(epoch_idx, discrim_error)\n",
    "        \n",
    "        # train generator\n",
    "        for idx in xrange(n_generator_updates):\n",
    "            # sample from generator again\n",
    "            prior_samples = np.random.normal(size=(N, latent_size))\n",
    "        \n",
    "            # perform update\n",
    "            session.run(train_generator, feed_dict={Z: prior_samples, Y: Y_gen})\n",
    "        \n",
    "        # visualize progress\n",
    "        if epoch_idx%5 == 0: \n",
    "            plot_densities(X_true, session.run(generator_out, feed_dict={Z: np.random.normal(size=(N/2, latent_size))}))\n",
    "        \n",
    "    # save the generator params\n",
    "    generator_weights = [session.run(w) for w in generator_params['w']]\n",
    "    generator_biases = [session.run(b) for b in generator_params['b']]"
   ]
  },
  {
   "cell_type": "markdown",
   "metadata": {},
   "source": [
    "The GAN can capture one mode well but not both (at least for the settings I've tried).  This is known problem: \"A common problem with GAN framework is that the generator tends to only generate samples that are clustered in one or a few modes of the regions of high data density, instead of spanning the whole range\" [[source]](https://arxiv.org/pdf/1609.03126v2.pdf)."
   ]
  },
  {
   "cell_type": "markdown",
   "metadata": {},
   "source": [
    "### 2.  A Discriminator Based on Importance Weights\n",
    "Classification error isn't the only way to define the discriminator model, as Ferenc discusses [here](http://www.inference.vc/are-energy-based-gans-actually-energy-based/).  Another objective he mentions is defined through model-based importance weight estimation, which can be written $$ w(\\mathbf{x}) = \\frac{q(\\mathbf{x})}{p(\\mathbf{x})} \\approx \\boldsymbol{\\alpha}^{T} \\phi(\\mathbf{x}) = \\hat{w}(\\mathbf{x}) $$ where $p$ and $q$ are two distributions, $\\alpha \\ge 0$ is a vector of coefficients (to be learned), and $\\phi(\\mathbf{x}) \\ge 0$ is a non-negative basis function.  We can simply transform the network output by the ReLU function to ensure it's strictly positive.  [Kanamori et al.](http://www.jmlr.org/papers/volume10/kanamori09a/kanamori09a.pdf) then show that $$\\frac{1}{2} \\mathbb{E}_{p}[(\\hat{w}(\\mathbf{x}) - w(\\mathbf{x}))^{2}] = \\frac{1}{2} \\mathbb{E}_{p}[\\hat{w}(\\mathbf{x})^{2}] -  \\int \\hat{w}(\\mathbf{x})q(\\mathbf{x}) d\\mathbf{x} + \\frac{1}{2} \\mathbb{E}_{p}[w(\\mathbf{x})^{2}]  \\propto  \\frac{1}{2} \\mathbb{E}_{p}[\\hat{w}(\\mathbf{x})^{2}] - \\mathbb{E}_{q}[\\hat{w}(\\mathbf{x})].$$  We can think of $p$ as being the true data distribution from which we have samples and $q$ as our generator model.  Q: does a similar objective exist for [Fisher Score Matching](https://www.cs.helsinki.fi/u/ahyvarin/papers/JMLR05.pdf)?  FSM has some robust properties that may improve or stabilize training.    "
   ]
  },
  {
   "cell_type": "markdown",
   "metadata": {},
   "source": [
    "We now will implement the above cost, replacing the classification cost.  First, let's define the model hyperparameters, the optimization hyperparameters, and the symbolic variables..."
   ]
  },
  {
   "cell_type": "code",
   "execution_count": 8,
   "metadata": {
    "collapsed": false
   },
   "outputs": [],
   "source": [
    "N = 300 # number of datapoints \n",
    "latent_size = 50\n",
    "vis_size = 2\n",
    "hidden_size = 500\n",
    "learning_rate = .01\n",
    "\n",
    "# Make symbolic variables\n",
    "Z = tf.placeholder(\"float\", [None, latent_size]) # latent features sampled from prior\n",
    "X_p = tf.placeholder(\"float\", [None, vis_size]) # true data\n",
    "X_q = tf.placeholder(\"float\", [None, vis_size]) # samples from generator\n",
    "# no need for labels"
   ]
  },
  {
   "cell_type": "markdown",
   "metadata": {},
   "source": [
    "Let's implement the importance weight objective in the discriminator..."
   ]
  },
  {
   "cell_type": "code",
   "execution_count": 9,
   "metadata": {
    "collapsed": false
   },
   "outputs": [],
   "source": [
    "discrim_out_p = neural_net(X_p, discrim_params)\n",
    "discrim_out_q = neural_net(X_q, discrim_params)\n",
    "\n",
    "discrim_cost = tf.reduce_mean(.5*tf.pow(discrim_out_p, 2)) - tf.reduce_mean(tf.nn.relu(discrim_out_q))\n",
    "train_discriminator = tf.train.GradientDescentOptimizer(learning_rate).minimize(discrim_cost, var_list=discrim_params['w']+discrim_params['b'])"
   ]
  },
  {
   "cell_type": "markdown",
   "metadata": {},
   "source": [
    "Make the corresponding changes to the generator..."
   ]
  },
  {
   "cell_type": "code",
   "execution_count": 10,
   "metadata": {
    "collapsed": false
   },
   "outputs": [],
   "source": [
    "generator_out = neural_net(Z, generator_params)\n",
    "discrim_out_genUpdate = neural_net(generator_out, discrim_params)\n",
    "\n",
    "generator_cost = tf.reduce_mean(tf.nn.relu(discrim_out_genUpdate))\n",
    "train_generator = tf.train.GradientDescentOptimizer(learning_rate).minimize(generator_cost, var_list=generator_params['w']+generator_params['b'])"
   ]
  },
  {
   "cell_type": "markdown",
   "metadata": {},
   "source": [
    "Let's train..."
   ]
  },
  {
   "cell_type": "code",
   "execution_count": 11,
   "metadata": {
    "collapsed": false
   },
   "outputs": [
    {
     "data": {
      "image/png": "[encoded data removed]",
      "text/plain": [
       "<matplotlib.figure.Figure at 0x122d1d710>"
      ]
     },
     "metadata": {},
     "output_type": "display_data"
    }
   ],
   "source": [
    "# Set training params\n",
    "n_epochs = 150\n",
    "n_discrim_updates = 10\n",
    "n_generator_updates = 3\n",
    "\n",
    "with tf.Session() as session:\n",
    "    tf.initialize_all_variables().run()\n",
    "    for epoch_idx in xrange(n_epochs):\n",
    "        \n",
    "        # train discriminator\n",
    "        discrim_error = 0.\n",
    "        for idx in xrange(n_discrim_updates):\n",
    "            # sample from generator\n",
    "            prior_samples = np.random.normal(size=(N, latent_size))\n",
    "            genSamples = session.run(generator_out, feed_dict={Z: prior_samples})\n",
    "        \n",
    "            # perform update\n",
    "            _, l = session.run([train_discriminator, discrim_cost], feed_dict={X_p: X_true, X_q: genSamples})\n",
    "            discrim_error += l\n",
    "        # print \"Epoch %d.  Discriminator error: %.3f\" %(epoch_idx, discrim_error)\n",
    "        \n",
    "        # train generator\n",
    "        for idx in xrange(n_generator_updates):\n",
    "            # sample from generator again\n",
    "            prior_samples = np.random.normal(size=(N, latent_size))\n",
    "        \n",
    "            # perform update\n",
    "            session.run(train_generator, feed_dict={Z: prior_samples})\n",
    "        \n",
    "        # visualize progress\n",
    "        if epoch_idx%5 == 0: \n",
    "            plot_densities(X_true, session.run(generator_out, feed_dict={Z: np.random.normal(size=(N/2, latent_size))}))"
   ]
  },
  {
   "cell_type": "markdown",
   "metadata": {},
   "source": [
    "### 3.  Is Joint Training Necessary?\n",
    "Much of the instability and difficulty in GAN training is a result of the inner-vs-outter-loop adversarial process.  Yet, is this joint training procedure necessary if all we need is a model that provides a 'goodness-of-fit' value?  If we have a pre-trained discriminator that already knows which data regions should have low density, why not optimize the generator based on that?  Let's examine this question for the Gaussian mixture example."
   ]
  },
  {
   "cell_type": "markdown",
   "metadata": {},
   "source": [
    "Again, let's first define the model hyperparameters, the optimization hyperparameters, and the symbolic variables..."
   ]
  },
  {
   "cell_type": "code",
   "execution_count": 12,
   "metadata": {
    "collapsed": false
   },
   "outputs": [],
   "source": [
    "N = 300 # number of datapoints \n",
    "latent_size = 50\n",
    "vis_size = 2\n",
    "hidden_size = 500\n",
    "learning_rate = .01\n",
    "\n",
    "# Gauss MM params\n",
    "discrim_params = {\n",
    "    'mu': [tf.constant([-5.,-5.]), tf.constant([5.,5.])],\n",
    "    'pi': [tf.constant(.35), tf.constant(.65)]\n",
    "}\n",
    "\n",
    "# Make symbolic variables\n",
    "Z = tf.placeholder(\"float\", [None, latent_size]) # latent features sampled from prior\n",
    "# No need for true data since we'll assume we have access to the model"
   ]
  },
  {
   "cell_type": "markdown",
   "metadata": {},
   "source": [
    "Next, let's make the Gaussian M.M. in Tensorflow..."
   ]
  },
  {
   "cell_type": "code",
   "execution_count": 13,
   "metadata": {
    "collapsed": false
   },
   "outputs": [],
   "source": [
    "def gaussPdf(x, params):\n",
    "    return (1./np.sqrt(2*np.pi)) * tf.exp(-.5 * tf.reduce_sum(tf.pow(x-params['mu'],2),1))\n",
    "\n",
    "def gaussMixPDF(x, params):\n",
    "    return params['pi'][0]*gaussPdf(x,{'mu':params['mu'][0]}) + params['pi'][1]*gaussPdf(x,{'mu':params['mu'][1]})"
   ]
  },
  {
   "cell_type": "markdown",
   "metadata": {},
   "source": [
    "Make the appropriate changes to the generator..."
   ]
  },
  {
   "cell_type": "code",
   "execution_count": 14,
   "metadata": {
    "collapsed": false
   },
   "outputs": [],
   "source": [
    "generator_params = init_neural_net([latent_size, hidden_size, vis_size])\n",
    "generator_out = neural_net(Z, generator_params)\n",
    "discrim_out_genUpdate = gaussMixPDF(generator_out, discrim_params)\n",
    "\n",
    "generator_cost = tf.reduce_mean(-tf.log(discrim_out_genUpdate)) \n",
    "train_generator = tf.train.GradientDescentOptimizer(learning_rate).minimize(generator_cost, var_list=generator_params['w']+generator_params['b'])"
   ]
  },
  {
   "cell_type": "markdown",
   "metadata": {},
   "source": [
    "Let's train..."
   ]
  },
  {
   "cell_type": "code",
   "execution_count": 17,
   "metadata": {
    "collapsed": false
   },
   "outputs": [
    {
     "data": {
      "image/png": "[encoded data removed]",
      "text/plain": [
       "<matplotlib.figure.Figure at 0x123337310>"
      ]
     },
     "metadata": {},
     "output_type": "display_data"
    }
   ],
   "source": [
    "# Set training params\n",
    "n_epochs = 150\n",
    "n_generator_updates = 3\n",
    "\n",
    "with tf.Session() as session:\n",
    "    tf.initialize_all_variables().run()\n",
    "    for epoch_idx in xrange(n_epochs):\n",
    "        \n",
    "        # train discriminator\n",
    "        # NO NEED, HAVE ACCESS TO GENERATIVE PROCESS\n",
    "        \n",
    "        # train generator\n",
    "        for idx in xrange(n_generator_updates):\n",
    "            # sample from generator again\n",
    "            prior_samples = np.random.normal(size=(N, latent_size))\n",
    "        \n",
    "            # perform update\n",
    "            session.run(train_generator, feed_dict={Z: prior_samples})\n",
    "        \n",
    "        # visualize progress\n",
    "        if epoch_idx%5 == 0: \n",
    "            plot_densities(X_true, session.run(generator_out, feed_dict={Z: np.random.normal(size=(N/2, latent_size))}))"
   ]
  },
  {
   "cell_type": "markdown",
   "metadata": {},
   "source": [
    "This works okay, but it seems to be very mode seeking, which makes sense since the generator is not rewarded for exploring the whole space.  Let's try to fix this."
   ]
  },
  {
   "cell_type": "markdown",
   "metadata": {},
   "source": [
    "### 4.  A Diversity Penalty\n",
    "Let's try to improve the mass-covering ability of the generator network by adding a simple regularization penalty of the form $$\\mathcal{R} = \\sum_{i=1}^{N} \\sum_{j=1, j \\ne i}^{N} k(x_{i}, x_{j}) $$ where $k(\\cdot, \\cdot)$ is a valid kernel (such as the RBF).  Since this operation is $DN^{2}$, we can approximate the sum by not using all pair combinations."
   ]
  },
  {
   "cell_type": "markdown",
   "metadata": {},
   "source": [
    "Add this term to the generator..."
   ]
  },
  {
   "cell_type": "code",
   "execution_count": 35,
   "metadata": {
    "collapsed": false
   },
   "outputs": [],
   "source": [
    "# usual terms\n",
    "generator_params = init_neural_net([latent_size, hidden_size, vis_size])\n",
    "generator_out = neural_net(Z, generator_params)\n",
    "discrim_out_genUpdate = gaussMixPDF(generator_out, discrim_params)\n",
    "\n",
    "# regularization\n",
    "diversity_weight = 15.\n",
    "def rbf_kernel(x1, x2, l=1.):\n",
    "    return tf.exp(-.5/l * tf.reduce_sum(tf.pow(x1 - x2,2),1) )\n",
    "\n",
    "Z_reg = tf.placeholder(\"float\", [None, latent_size]) # extra samples for regularization term\n",
    "generator_out_Reg = neural_net(Z_reg, generator_params)\n",
    "kernel_Reg = rbf_kernel(generator_out, generator_out_Reg)\n",
    "\n",
    "generator_cost = tf.reduce_mean(-tf.log(discrim_out_genUpdate) + diversity_weight*kernel_Reg) \n",
    "train_generator = tf.train.GradientDescentOptimizer(learning_rate).minimize(generator_cost, var_list=generator_params['w']+generator_params['b'])"
   ]
  },
  {
   "cell_type": "markdown",
   "metadata": {},
   "source": [
    "Let's train..."
   ]
  },
  {
   "cell_type": "code",
   "execution_count": 36,
   "metadata": {
    "collapsed": false
   },
   "outputs": [
    {
     "data": {
      "image/png": "[encoded data removed]",
      "text/plain": [
       "<matplotlib.figure.Figure at 0x1296a2a10>"
      ]
     },
     "metadata": {},
     "output_type": "display_data"
    }
   ],
   "source": [
    "# Set training params\n",
    "n_epochs = 150\n",
    "n_generator_updates = 3\n",
    "\n",
    "with tf.Session() as session:\n",
    "    tf.initialize_all_variables().run()\n",
    "    for epoch_idx in xrange(n_epochs):\n",
    "        \n",
    "        # train discriminator\n",
    "        # NO NEED, HAVE ACCESS TO GENERATIVE PROCESS\n",
    "        \n",
    "        # train generator\n",
    "        for idx in xrange(n_generator_updates):\n",
    "            # sample from generator again\n",
    "            prior_samples1 = np.random.normal(size=(N, latent_size))\n",
    "            prior_samples2 = np.random.normal(size=(N, latent_size))\n",
    "        \n",
    "            # perform update\n",
    "            session.run(train_generator, feed_dict={Z: prior_samples1, Z_reg: prior_samples2})\n",
    "        \n",
    "        # visualize progress\n",
    "        if epoch_idx%5 == 0: \n",
    "            plot_densities(X_true, session.run(generator_out, feed_dict={Z: np.random.normal(size=(N/2, latent_size))}))"
   ]
  },
  {
   "cell_type": "markdown",
   "metadata": {},
   "source": [
    "### 5.  Two-Step Training of DAE-to-Generator on MNIST\n",
    "Let's try the two-step training process on a subset of MNIST..."
   ]
  },
  {
   "cell_type": "code",
   "execution_count": 100,
   "metadata": {
    "collapsed": false
   },
   "outputs": [
    {
     "data": {
      "image/png": "[encoded data removed]",
      "text/plain": [
       "<matplotlib.figure.Figure at 0x126e3fd50>"
      ]
     },
     "metadata": {},
     "output_type": "display_data"
    }
   ],
   "source": [
    "from sklearn.datasets import fetch_mldata\n",
    "mnist = fetch_mldata('MNIST original')\n",
    "\n",
    "# reduce dataset and normalize to [0,1]\n",
    "random_idxs = range(mnist.data.shape[0])\n",
    "shuffle(random_idxs)\n",
    "mnist_images = mnist.data[random_idxs[:25000],:] / 255.\n",
    "\n",
    "# show the first image\n",
    "plt.imshow(np.reshape(mnist_images[0,:] * 255., (28, 28)), cmap='Greys_r')\n",
    "plt.show()"
   ]
  },
  {
   "cell_type": "markdown",
   "metadata": {},
   "source": [
    "First we need a model that can tell us if a sample is probable or not.  Let's use a denoising autoencoder for that.  First define the hyperparameters..."
   ]
  },
  {
   "cell_type": "code",
   "execution_count": 101,
   "metadata": {
    "collapsed": true
   },
   "outputs": [],
   "source": [
    "N, vis_size = mnist_images.shape # number of datapoints \n",
    "hidden_size = 500\n",
    "learning_rate = .01\n",
    "\n",
    "# Make symbolic variables\n",
    "X = tf.placeholder(\"float\", [None, vis_size]) # images"
   ]
  },
  {
   "cell_type": "markdown",
   "metadata": {},
   "source": [
    "Now define the DAE model with Dropout noise..."
   ]
  },
  {
   "cell_type": "code",
   "execution_count": 81,
   "metadata": {
    "collapsed": true
   },
   "outputs": [],
   "source": [
    "dae_params = init_neural_net([vis_size, hidden_size, vis_size])\n",
    "X_dropped = tf.nn.dropout(X, .5)\n",
    "dae_out = neural_net(X_dropped, dae_params)\n",
    "\n",
    "dae_cost = tf.reduce_mean(tf.nn.sigmoid_cross_entropy_with_logits(dae_out, X)) \n",
    "train_dae = tf.train.GradientDescentOptimizer(learning_rate).minimize(dae_cost, var_list=dae_params['w']+dae_params['b'])"
   ]
  },
  {
   "cell_type": "markdown",
   "metadata": {},
   "source": [
    "Train the DAE (takes 15 mins or so)..."
   ]
  },
  {
   "cell_type": "code",
   "execution_count": 82,
   "metadata": {
    "collapsed": false
   },
   "outputs": [
    {
     "data": {
      "image/png": "[encoded data removed]",
      "text/plain": [
       "<matplotlib.figure.Figure at 0x13213cad0>"
      ]
     },
     "metadata": {},
     "output_type": "display_data"
    }
   ],
   "source": [
    "# Set training params\n",
    "n_epochs = 150\n",
    "batch_size = 100\n",
    "n_batches = N/batch_size\n",
    "\n",
    "loss_tracker = []\n",
    "dae_weights = None\n",
    "dae_biases = None\n",
    "\n",
    "with tf.Session() as session:\n",
    "    tf.initialize_all_variables().run()\n",
    "    \n",
    "    for epoch_idx in xrange(n_epochs):\n",
    "        epoch_loss = 0.\n",
    "        for batch_idx in xrange(n_batches):\n",
    "            _, l = session.run([train_dae, dae_cost], feed_dict={X: mnist_images[batch_idx*batch_size:(batch_idx+1)*batch_size, :]})\n",
    "            epoch_loss += l\n",
    "        loss_tracker.append(epoch_loss/n_batches)\n",
    "    \n",
    "        if epoch_idx%5 == 0:\n",
    "            # show the optimization progress\n",
    "            display.clear_output(wait=True)\n",
    "            plt.plot(range(n_epochs), loss_tracker + [np.nan]*(n_epochs-epoch_idx-1), linewidth=5)\n",
    "            plt.xlim(0,n_epochs)\n",
    "            plt.xlabel(\"Epoch\")\n",
    "            plt.ylabel(\"Cross-Entropy Error\")\n",
    "            plt.show()\n",
    "            \n",
    "    # save the DAE params\n",
    "    dae_weights = [session.run(w) for w in dae_params['w']]\n",
    "    dae_biases = [session.run(b) for b in dae_params['b']]"
   ]
  },
  {
   "cell_type": "markdown",
   "metadata": {},
   "source": [
    "Now define a generator network (with kernel-based diversity regularization) using the DAE for guidance..."
   ]
  },
  {
   "cell_type": "code",
   "execution_count": 174,
   "metadata": {
    "collapsed": false
   },
   "outputs": [],
   "source": [
    "hidden_size = 500\n",
    "learning_rate = .01\n",
    "latent_size = 100\n",
    "\n",
    "# make dae parameters constant\n",
    "dae_params = {'w':[tf.constant(w) for w in dae_weights], 'b':[tf.constant(b) for b in dae_biases]}\n",
    "\n",
    "# generator network\n",
    "Z = tf.placeholder(\"float\", [None, latent_size]) # latent features sampled from prior\n",
    "generator_params = init_neural_net([latent_size, hidden_size, vis_size])\n",
    "generator_out = neural_net(Z, generator_params)\n",
    "generator_out_squashed = tf.nn.sigmoid(generator_out)\n",
    "discrim_out_genUpdate = neural_net(generator_out_squashed, dae_params)\n",
    "\n",
    "# regularization\n",
    "diversity_weight = .0\n",
    "Z_reg = tf.placeholder(\"float\", [None, latent_size]) # extra samples for regularization term\n",
    "generator_out_Reg = neural_net(Z_reg, generator_params)\n",
    "kernel_Reg = rbf_kernel(generator_out, generator_out_Reg)\n",
    "\n",
    "# compose DAE loss and generator regularization\n",
    "dae_cost_forGen = tf.reduce_mean(tf.nn.sigmoid_cross_entropy_with_logits(discrim_out_genUpdate, generator_out_squashed), 1)\n",
    "generator_cost = tf.reduce_mean(dae_cost_forGen) #+ diversity_weight*kernel_Reg) \n",
    "train_generator = tf.train.GradientDescentOptimizer(learning_rate).minimize(generator_cost, var_list=generator_params['w']+generator_params['b'])"
   ]
  },
  {
   "cell_type": "markdown",
   "metadata": {},
   "source": [
    "Train the generator..."
   ]
  },
  {
   "cell_type": "code",
   "execution_count": 175,
   "metadata": {
    "collapsed": false
   },
   "outputs": [
    {
     "data": {
      "image/png": "[encoded data removed]",
      "text/plain": [
       "<matplotlib.figure.Figure at 0x173e28890>"
      ]
     },
     "metadata": {},
     "output_type": "display_data"
    },
    {
     "name": "stdout",
     "output_type": "stream",
     "text": [
      "0.238655979574\n",
      "0.237732539058\n",
      "0.237152135611\n",
      "0.236403890073\n"
     ]
    }
   ],
   "source": [
    "# Set training params\n",
    "n_epochs = 150\n",
    "n_batches = N/batch_size\n",
    "\n",
    "mnist_generator_weights = None\n",
    "mnist_generator_biases = None\n",
    "\n",
    "with tf.Session() as session:\n",
    "    tf.initialize_all_variables().run()\n",
    "    for epoch_idx in xrange(n_epochs):\n",
    "        epoch_loss = 0.\n",
    "        \n",
    "        # sample from prior\n",
    "        prior_samples = np.random.normal(size=(N, latent_size))\n",
    "        aux_samples = np.random.normal(size=(N, latent_size))\n",
    "            \n",
    "        for batch_idx in xrange(n_batches):\n",
    "            # perform update\n",
    "            _, l = session.run([train_generator, generator_cost], feed_dict={Z: prior_samples[batch_idx*batch_size:(batch_idx+1)*batch_size],\n",
    "                                                                             Z_reg: aux_samples[batch_idx*batch_size:(batch_idx+1)*batch_size]})\n",
    "            epoch_loss += l\n",
    "            \n",
    "        print epoch_loss / n_batches\n",
    "        \n",
    "        # visualize a sample to gauge progress\n",
    "        if epoch_idx%5 == 0: \n",
    "            mnist_sample = session.run(generator_out_squashed, feed_dict={Z:np.random.normal(size=(1, latent_size))})\n",
    "            display.clear_output(wait=True)\n",
    "            plt.imshow(np.reshape(mnist_sample * 255., (28, 28)), cmap='Greys_r')\n",
    "            plt.show()\n",
    "            \n",
    "    # save the generator params\n",
    "    mnist_generator_weights = [session.run(w) for w in generator_params['w']]\n",
    "    mnist_generator_biases = [session.run(b) for b in generator_params['b']]"
   ]
  }
 ],
 "metadata": {
  "kernelspec": {
   "display_name": "Python 2",
   "language": "python",
   "name": "python2"
  },
  "language_info": {
   "codemirror_mode": {
    "name": "ipython",
    "version": 2
   },
   "file_extension": ".py",
   "mimetype": "text/x-python",
   "name": "python",
   "nbconvert_exporter": "python",
   "pygments_lexer": "ipython2",
   "version": "2.7.11"
  }
 },
 "nbformat": 4,
 "nbformat_minor": 0
}
