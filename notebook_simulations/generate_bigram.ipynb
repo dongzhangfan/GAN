{
 "cells": [
  {
   "cell_type": "code",
   "execution_count": 4,
   "metadata": {
    "collapsed": true
   },
   "outputs": [],
   "source": [
    "import numpy as np\n",
    "import pickle\n",
    "from collections import Counter"
   ]
  },
  {
   "cell_type": "code",
   "execution_count": null,
   "metadata": {
    "collapsed": true
   },
   "outputs": [],
   "source": [
    "# load the first 1 billion characters of wikipedia.\n",
    "# TODO the generated bigrams is not good.\n",
    "\n",
    "bigram_counter = Counter()\n",
    "for root, dirs, files in os.walk('./data/output/'):\n",
    "    for file in files:\n",
    "        if not file.startswith('wiki'):\n",
    "            continue\n",
    "        path = os.path.join(root, file)\n",
    "        print(path)\n",
    "        with open(path) as f:\n",
    "            for line in f:\n",
    "                tokens = word_tokenize(line)\n",
    "                words = [token.lower() for token in tokens if token not in string.punctuation ]\n",
    "                if len(words) >= 2:\n",
    "                    bigrams = nltk.bigrams(words)\n",
    "                    bigram_counter.update(bigrams)"
   ]
  },
  {
   "cell_type": "code",
   "execution_count": null,
   "metadata": {
    "collapsed": true
   },
   "outputs": [],
   "source": [
    "with open('./data/bigram_wiki', 'wb') as f:\n",
    "    pickle.dump(bigram_counter, f)"
   ]
  },
  {
   "cell_type": "code",
   "execution_count": 2,
   "metadata": {
    "collapsed": true
   },
   "outputs": [],
   "source": [
    "# Downloads pre-processed two grams from http://www.ngrams.info/download_coca.asp\n",
    "path = './data/2-gram.txt'\n",
    "bigram_counter_ngram = Counter()\n",
    "total_count = 0\n",
    "with open(path) as f:\n",
    "    for line in f.readlines():\n",
    "        tokens = line.strip().split('\\t')\n",
    "        count = int(tokens[0])\n",
    "        total_count += count\n",
    "        bigram = tuple(tokens[1:])\n",
    "        bigram_counter_ngram[bigram] = count\n",
    "        "
   ]
  },
  {
   "cell_type": "code",
   "execution_count": 5,
   "metadata": {
    "collapsed": false
   },
   "outputs": [],
   "source": [
    "with open('./data/bigram_ngrams', 'wb') as f:\n",
    "    pickle.dump(bigram_counter_ngram, f)"
   ]
  }
 ],
 "metadata": {
  "kernelspec": {
   "display_name": "Python 3",
   "language": "python",
   "name": "python3"
  },
  "language_info": {
   "codemirror_mode": {
    "name": "ipython",
    "version": 3
   },
   "file_extension": ".py",
   "mimetype": "text/x-python",
   "name": "python",
   "nbconvert_exporter": "python",
   "pygments_lexer": "ipython3",
   "version": "3.5.2"
  }
 },
 "nbformat": 4,
 "nbformat_minor": 1
}
